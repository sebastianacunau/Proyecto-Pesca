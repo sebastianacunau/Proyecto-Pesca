{
 "cells": [
  {
   "cell_type": "markdown",
   "metadata": {},
   "source": [
    "# Proyecto final: Modelación y control en una pesquería de acceso abierto\n",
    "\n",
    "**Nombres:** Sebastián Acuña, Diogo Silva y Patricio Yáñez. <br>\n",
    "**Fecha:** 25 de octubre de 2024. <br>\n",
    "**Profesor:** Héctor Ramírez C. <br>\n",
    "**Auxiliar:** Diego Olguín W. <br>\n",
    "**Ayudantes:** Carlos Antil C. y Luis Fuentes C. <br>\n",
    "**Curso:** [MA4703-1] Control Óptimo: Teoría y Laboratorio"
   ]
  },
  {
   "cell_type": "markdown",
   "metadata": {},
   "source": [
    "## Modelamiento"
   ]
  },
  {
   "cell_type": "code",
   "execution_count": null,
   "metadata": {},
   "outputs": [],
   "source": []
  },
  {
   "cell_type": "markdown",
   "metadata": {},
   "source": [
    "## Simulaciones"
   ]
  },
  {
   "cell_type": "code",
   "execution_count": null,
   "metadata": {},
   "outputs": [],
   "source": []
  }
 ],
 "metadata": {
  "kernelspec": {
   "display_name": "Julia 1.10.4",
   "language": "julia",
   "name": "julia-1.10"
  },
  "language_info": {
   "name": "julia"
  }
 },
 "nbformat": 4,
 "nbformat_minor": 2
}
